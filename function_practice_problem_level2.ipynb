{
 "cells": [
  {
   "cell_type": "markdown",
   "id": "ae147911",
   "metadata": {},
   "source": [
    "FIND 33:Given a list of ints,return True if the array contains a 3 next to a 3 somewhere \n",
    "\n",
    "has_33([1,3,3])-->True \n",
    "has_33([1,3,1,3])-->False\n",
    "has_33([3,1,3])-->False"
   ]
  },
  {
   "cell_type": "code",
   "execution_count": 3,
   "id": "f9c29e2d",
   "metadata": {},
   "outputs": [],
   "source": [
    "def has_33(nums):\n",
    "     for i in range (0,len(nums)-1):\n",
    "            if nums[i] == 3 and nums[i+1] == 3:\n",
    "                return True\n",
    "     return False"
   ]
  },
  {
   "cell_type": "code",
   "execution_count": 4,
   "id": "f07431d2",
   "metadata": {},
   "outputs": [
    {
     "data": {
      "text/plain": [
       "True"
      ]
     },
     "execution_count": 4,
     "metadata": {},
     "output_type": "execute_result"
    }
   ],
   "source": [
    "has_33([1,3,3])"
   ]
  },
  {
   "cell_type": "code",
   "execution_count": 6,
   "id": "08561193",
   "metadata": {},
   "outputs": [
    {
     "data": {
      "text/plain": [
       "False"
      ]
     },
     "execution_count": 6,
     "metadata": {},
     "output_type": "execute_result"
    }
   ],
   "source": [
    "has_33([1,3,1,3])"
   ]
  },
  {
   "cell_type": "code",
   "execution_count": 7,
   "id": "0cf14050",
   "metadata": {},
   "outputs": [
    {
     "data": {
      "text/plain": [
       "False"
      ]
     },
     "execution_count": 7,
     "metadata": {},
     "output_type": "execute_result"
    }
   ],
   "source": [
    "has_33([3,1,3])"
   ]
  },
  {
   "cell_type": "markdown",
   "id": "2eba9e63",
   "metadata": {},
   "source": [
    "PAPER DOLL:Given a string,return a string where for every character in the original there are three characters\n",
    "\n",
    "paper_doll('Hello')--->'HHHeeellllllooo'\n",
    "paper_doll('Mississippi')-->'MMMiiissssssiiissssssiiippppppiii'"
   ]
  },
  {
   "cell_type": "code",
   "execution_count": 10,
   "id": "a49c7d8d",
   "metadata": {},
   "outputs": [],
   "source": [
    "def paper_doll(text):\n",
    "    result = ''\n",
    "    \n",
    "    for char in text:\n",
    "        result += char*3\n",
    "    return result"
   ]
  },
  {
   "cell_type": "code",
   "execution_count": 11,
   "id": "44a66009",
   "metadata": {},
   "outputs": [
    {
     "data": {
      "text/plain": [
       "'HHHeeellllllooo'"
      ]
     },
     "execution_count": 11,
     "metadata": {},
     "output_type": "execute_result"
    }
   ],
   "source": [
    "paper_doll('Hello')"
   ]
  },
  {
   "cell_type": "code",
   "execution_count": 12,
   "id": "631609d0",
   "metadata": {},
   "outputs": [
    {
     "data": {
      "text/plain": [
       "'MMMiiissssssiiissssssiiippppppiii'"
      ]
     },
     "execution_count": 12,
     "metadata": {},
     "output_type": "execute_result"
    }
   ],
   "source": [
    "paper_doll('Mississippi')"
   ]
  },
  {
   "cell_type": "markdown",
   "id": "dd50f11a",
   "metadata": {},
   "source": [
    "BLACK JACK:Given three integers between 1 and 11,if their sum is less than or equal to 21 return their sum.If their sum exceeds 21 and ther's an eleven,reduce the total sum to 10.Finally if their sum(even after adjustment) exceeds 21 return 'BUST'\n",
    "\n",
    "blackjack(5,6,7)-->18\n",
    "blackjack(9,9,9)-->'BUST'\n",
    "blackjack(9,9,11)-->19"
   ]
  },
  {
   "cell_type": "code",
   "execution_count": 20,
   "id": "558544f8",
   "metadata": {},
   "outputs": [],
   "source": [
    "def blackjack(a,b,c):\n",
    "    if sum([a,b,c]) <= 21:\n",
    "        return sum([a,b,c])\n",
    "    elif 11 in [a,b,c] and sum([a,b,c]) <= 31:\n",
    "        return sum([a,b,c])-10\n",
    "    else:\n",
    "        return 'BUST'\n",
    "        "
   ]
  },
  {
   "cell_type": "code",
   "execution_count": 21,
   "id": "ed5edf4b",
   "metadata": {},
   "outputs": [
    {
     "data": {
      "text/plain": [
       "18"
      ]
     },
     "execution_count": 21,
     "metadata": {},
     "output_type": "execute_result"
    }
   ],
   "source": [
    "blackjack(5,6,7)"
   ]
  },
  {
   "cell_type": "code",
   "execution_count": 22,
   "id": "20281056",
   "metadata": {},
   "outputs": [
    {
     "data": {
      "text/plain": [
       "19"
      ]
     },
     "execution_count": 22,
     "metadata": {},
     "output_type": "execute_result"
    }
   ],
   "source": [
    "blackjack(9,9,11)"
   ]
  },
  {
   "cell_type": "code",
   "execution_count": 23,
   "id": "9a56faa9",
   "metadata": {},
   "outputs": [
    {
     "data": {
      "text/plain": [
       "'BUST'"
      ]
     },
     "execution_count": 23,
     "metadata": {},
     "output_type": "execute_result"
    }
   ],
   "source": [
    "blackjack(9,9,9)"
   ]
  },
  {
   "cell_type": "markdown",
   "id": "c6f84fa0",
   "metadata": {},
   "source": [
    "SUMMER OF 69:Return the sum of th enumbers in the array,except ignore sections of numbers starting with 6 and extending to the next 9(every 6 will be followed by atleast one 9).Return 0 for no numbers.\n",
    "\n",
    "summer_69([1,3,5])-->9\n",
    "summer_69([4,5,6,7,8,9])-->9\n",
    "summer_69([2,1,6,9,11])-->14"
   ]
  },
  {
   "cell_type": "code",
   "execution_count": 25,
   "id": "864d3f6d",
   "metadata": {},
   "outputs": [],
   "source": [
    "def summer_69(arr):\n",
    "    total = 0\n",
    "    add = True \n",
    "    for num in arr:\n",
    "        while add:\n",
    "            if num != 6:\n",
    "                total += num\n",
    "                break\n",
    "            else:\n",
    "                add = False\n",
    "        while not add:\n",
    "            if num != 9:\n",
    "                break\n",
    "            else:\n",
    "                add = True\n",
    "                break\n",
    "    return total"
   ]
  },
  {
   "cell_type": "code",
   "execution_count": 26,
   "id": "886c2313",
   "metadata": {},
   "outputs": [
    {
     "data": {
      "text/plain": [
       "9"
      ]
     },
     "execution_count": 26,
     "metadata": {},
     "output_type": "execute_result"
    }
   ],
   "source": [
    "summer_69([1,3,5])"
   ]
  },
  {
   "cell_type": "code",
   "execution_count": 27,
   "id": "3f23dfe6",
   "metadata": {},
   "outputs": [
    {
     "data": {
      "text/plain": [
       "9"
      ]
     },
     "execution_count": 27,
     "metadata": {},
     "output_type": "execute_result"
    }
   ],
   "source": [
    "summer_69([4,5,6,7,8,9])"
   ]
  },
  {
   "cell_type": "code",
   "execution_count": 29,
   "id": "bea1eaa6",
   "metadata": {},
   "outputs": [
    {
     "data": {
      "text/plain": [
       "14"
      ]
     },
     "execution_count": 29,
     "metadata": {},
     "output_type": "execute_result"
    }
   ],
   "source": [
    "summer_69([2,1,6,9,11])"
   ]
  }
 ],
 "metadata": {
  "kernelspec": {
   "display_name": "Python 3 (ipykernel)",
   "language": "python",
   "name": "python3"
  },
  "language_info": {
   "codemirror_mode": {
    "name": "ipython",
    "version": 3
   },
   "file_extension": ".py",
   "mimetype": "text/x-python",
   "name": "python",
   "nbconvert_exporter": "python",
   "pygments_lexer": "ipython3",
   "version": "3.11.5"
  }
 },
 "nbformat": 4,
 "nbformat_minor": 5
}
