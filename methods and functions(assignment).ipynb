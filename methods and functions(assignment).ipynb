{
 "cells": [
  {
   "cell_type": "markdown",
   "id": "c473fffa",
   "metadata": {},
   "source": [
    "Write a function that computes the volume of a sphere given its radius.\n",
    "\n",
    "volume of sphere 4/3 pi*r^3"
   ]
  },
  {
   "cell_type": "code",
   "execution_count": 1,
   "id": "42dbf9d3",
   "metadata": {},
   "outputs": [],
   "source": [
    "def vol(rad):\n",
    "    return (4/3)*(3.14)*(rad**3)"
   ]
  },
  {
   "cell_type": "code",
   "execution_count": 2,
   "id": "7c43aa7d",
   "metadata": {},
   "outputs": [
    {
     "data": {
      "text/plain": [
       "113.03999999999999"
      ]
     },
     "execution_count": 2,
     "metadata": {},
     "output_type": "execute_result"
    }
   ],
   "source": [
    "vol(3)"
   ]
  },
  {
   "cell_type": "code",
   "execution_count": 3,
   "id": "71e959bb",
   "metadata": {},
   "outputs": [
    {
     "data": {
      "text/plain": [
       "33.49333333333333"
      ]
     },
     "execution_count": 3,
     "metadata": {},
     "output_type": "execute_result"
    }
   ],
   "source": [
    "vol(2)"
   ]
  },
  {
   "cell_type": "markdown",
   "id": "dec5c198",
   "metadata": {},
   "source": [
    "Write a function that checks whether a number is in a given range(inclusive of high and low)"
   ]
  },
  {
   "cell_type": "code",
   "execution_count": 4,
   "id": "f9d0d311",
   "metadata": {},
   "outputs": [],
   "source": [
    "def ran_check(num,low,high):\n",
    "    return num in range(low,high+1)"
   ]
  },
  {
   "cell_type": "code",
   "execution_count": 6,
   "id": "5eceabff",
   "metadata": {},
   "outputs": [
    {
     "data": {
      "text/plain": [
       "True"
      ]
     },
     "execution_count": 6,
     "metadata": {},
     "output_type": "execute_result"
    }
   ],
   "source": [
    "ran_check(5,2,7)"
   ]
  },
  {
   "cell_type": "code",
   "execution_count": 11,
   "id": "137db45e",
   "metadata": {},
   "outputs": [],
   "source": [
    "def ran_check(num,low,high):\n",
    "    if num in range(low,high+1):\n",
    "        print(f'{num} is in the range of {low} and {high}')\n",
    "    else:\n",
    "        print('Not in range')"
   ]
  },
  {
   "cell_type": "code",
   "execution_count": 12,
   "id": "ece0d210",
   "metadata": {},
   "outputs": [
    {
     "name": "stdout",
     "output_type": "stream",
     "text": [
      "5 is in the range of 2 and 7\n"
     ]
    }
   ],
   "source": [
    "ran_check(5,2,7)"
   ]
  },
  {
   "cell_type": "code",
   "execution_count": 13,
   "id": "9359df6a",
   "metadata": {},
   "outputs": [
    {
     "name": "stdout",
     "output_type": "stream",
     "text": [
      "Not in range\n"
     ]
    }
   ],
   "source": [
    "ran_check(12,2,7)"
   ]
  },
  {
   "cell_type": "markdown",
   "id": "ce0561cb",
   "metadata": {},
   "source": [
    "Write a pyhton functioin that accepts a string and calculates the number of upper case letters and lower case letters.\n",
    "\n",
    "Sample String : 'Hello Mr. Rogers, how are you this fine Tuesday?'\n",
    "Expected Output:\n",
    "No. of Upper case characters : 4\n",
    "No. of Lower case characters : 33\n",
    "\n",
    "HINT : Two string methods that might prove useful:.isupper() and .islower()"
   ]
  },
  {
   "cell_type": "code",
   "execution_count": 19,
   "id": "9d841fa3",
   "metadata": {},
   "outputs": [],
   "source": [
    "def up_low(s):\n",
    "    lowercase = 0\n",
    "    uppercase = 0\n",
    "    \n",
    "    for char in s:\n",
    "        if char.isupper():\n",
    "            uppercase += 1\n",
    "        elif char.islower():\n",
    "            lowercase += 1\n",
    "        else:\n",
    "            pass\n",
    "    print(f'Original String {s}')\n",
    "    print(f'Lowercase count: {lowercase}')\n",
    "    print(f'Uppercase count: {uppercase}' )        "
   ]
  },
  {
   "cell_type": "code",
   "execution_count": 20,
   "id": "27f1e2cd",
   "metadata": {},
   "outputs": [
    {
     "name": "stdout",
     "output_type": "stream",
     "text": [
      "Original String Hello Mr. Rogers, how are you this fine Tuesday?\n",
      "Lowercase count: 33\n",
      "Uppercase count: 4\n"
     ]
    }
   ],
   "source": [
    "s = 'Hello Mr. Rogers, how are you this fine Tuesday?'\n",
    "up_low(s)"
   ]
  },
  {
   "cell_type": "code",
   "execution_count": 21,
   "id": "fab0dbc2",
   "metadata": {},
   "outputs": [],
   "source": [
    "def up_low(s):\n",
    "    d = {'upper':0,'lower':0}\n",
    "    \n",
    "    for char in s:\n",
    "        if char.isupper():\n",
    "            d['upper'] += 1\n",
    "        elif char.islower():\n",
    "            d['lower'] += 1\n",
    "        else:\n",
    "            pass\n",
    "    print(f'Original String {s}')\n",
    "    print(f'Lowercase count: {d[\"lower\"]}')\n",
    "    print(f'Uppercase count: {d[\"upper\"]}' ) "
   ]
  },
  {
   "cell_type": "code",
   "execution_count": 22,
   "id": "20c902f0",
   "metadata": {},
   "outputs": [
    {
     "name": "stdout",
     "output_type": "stream",
     "text": [
      "Original String Hello Mr. Rogers, how are you this fine Tuesday?\n",
      "Lowercase count: 33\n",
      "Uppercase count: 4\n"
     ]
    }
   ],
   "source": [
    "s = 'Hello Mr. Rogers, how are you this fine Tuesday?'\n",
    "up_low(s)"
   ]
  },
  {
   "cell_type": "markdown",
   "id": "f30a5df9",
   "metadata": {},
   "source": [
    "Write a python function that takes a list and returns a new list with the unique elements of the first list\n",
    "\n",
    "Sample list : [1,1,1,2,3,3,3,2,2,4,4,5,5]\n",
    "Unique list : [1,2,3,4,5]"
   ]
  },
  {
   "cell_type": "code",
   "execution_count": 23,
   "id": "1fa7f446",
   "metadata": {},
   "outputs": [],
   "source": [
    "def unique_list(lst):\n",
    "    return list(set(lst))"
   ]
  },
  {
   "cell_type": "code",
   "execution_count": 24,
   "id": "cd4d2585",
   "metadata": {},
   "outputs": [
    {
     "data": {
      "text/plain": [
       "[1, 2, 3, 4, 5]"
      ]
     },
     "execution_count": 24,
     "metadata": {},
     "output_type": "execute_result"
    }
   ],
   "source": [
    "lst =  [1,1,1,2,3,3,3,2,2,4,4,5,5]\n",
    "unique_list(lst)"
   ]
  },
  {
   "cell_type": "markdown",
   "id": "22908355",
   "metadata": {},
   "source": [
    "approach #2 "
   ]
  },
  {
   "cell_type": "code",
   "execution_count": 27,
   "id": "9dbc1b1c",
   "metadata": {},
   "outputs": [],
   "source": [
    "def unique_list(lst):\n",
    "    x = []\n",
    "    for number in lst:\n",
    "        if number not in x:\n",
    "            x.append(number)\n",
    "    return x"
   ]
  },
  {
   "cell_type": "code",
   "execution_count": 28,
   "id": "4fcd3f58",
   "metadata": {},
   "outputs": [
    {
     "data": {
      "text/plain": [
       "[1, 2, 3, 4, 5]"
      ]
     },
     "execution_count": 28,
     "metadata": {},
     "output_type": "execute_result"
    }
   ],
   "source": [
    "lst =  [1,1,1,2,3,3,3,2,2,4,4,5,5]\n",
    "unique_list(lst)"
   ]
  },
  {
   "cell_type": "markdown",
   "id": "c70b8170",
   "metadata": {},
   "source": [
    "Write a python function to multiply all the numbers in the list.\n",
    "\n",
    "Sample List : [1,2,3,-4]\n",
    "Expected Output : -24"
   ]
  },
  {
   "cell_type": "code",
   "execution_count": 29,
   "id": "a2f5964c",
   "metadata": {},
   "outputs": [],
   "source": [
    "def multiply(numbers):\n",
    "    total = 1\n",
    "    for num in numbers:\n",
    "        total = total*num\n",
    "    return total"
   ]
  },
  {
   "cell_type": "code",
   "execution_count": 30,
   "id": "83e8e349",
   "metadata": {},
   "outputs": [
    {
     "data": {
      "text/plain": [
       "-24"
      ]
     },
     "execution_count": 30,
     "metadata": {},
     "output_type": "execute_result"
    }
   ],
   "source": [
    "multiply([1,2,3,-4])"
   ]
  },
  {
   "cell_type": "code",
   "execution_count": 31,
   "id": "9ee5d428",
   "metadata": {},
   "outputs": [
    {
     "data": {
      "text/plain": [
       "-240"
      ]
     },
     "execution_count": 31,
     "metadata": {},
     "output_type": "execute_result"
    }
   ],
   "source": [
    "multiply([1,2,3,-4,10])"
   ]
  },
  {
   "cell_type": "markdown",
   "id": "bd188687",
   "metadata": {},
   "source": [
    "Write a pyhton function that checks whether a word or phrase is palindrome or not"
   ]
  },
  {
   "cell_type": "code",
   "execution_count": 40,
   "id": "cf0410d2",
   "metadata": {},
   "outputs": [],
   "source": [
    "def palindrome(s):\n",
    "    #REMOVE THE SPACES FROM THE STRING\n",
    "    s = s.replace(' ','')\n",
    "    #Check if the string == reversed string\n",
    "#     s == s[::-1]  reversing a string\n",
    "    return s == s[::-1]"
   ]
  },
  {
   "cell_type": "code",
   "execution_count": 41,
   "id": "348c9ef0",
   "metadata": {},
   "outputs": [
    {
     "data": {
      "text/plain": [
       "True"
      ]
     },
     "execution_count": 41,
     "metadata": {},
     "output_type": "execute_result"
    }
   ],
   "source": [
    "palindrome('nurses run')"
   ]
  },
  {
   "cell_type": "markdown",
   "id": "4c9919b1",
   "metadata": {},
   "source": [
    "Write a python function to check whether a string is pangram or not(ASsume the string does not have any punctuations)\n",
    "\n",
    "Note : Pangrams are the words or sentence containing every letter of the alphabet atleast once\n",
    "for example : \"The quick brown fox jumps over the lazy dog\"\n",
    "\n",
    "HINT : You may want to use .replace() method to get rid of spaces\n",
    "       "
   ]
  },
  {
   "cell_type": "code",
   "execution_count": 43,
   "id": "c3bc6082",
   "metadata": {},
   "outputs": [],
   "source": [
    "import string \n",
    "\n",
    "def ispangram(str1,alphabet = string.ascii_lowercase):\n",
    "    \n",
    "    #Create a set of the alphabet\n",
    "    alphaset = set(alphabet)\n",
    "    print(alphaset)\n",
    "    #Remove spaces from input string\n",
    "    str1 = str1.replace(' ','')\n",
    "    #Convert into all lower case\n",
    "    str1 =  str1.lower()\n",
    "    #Grab all unique letters from the string\n",
    "    str1 = set(str1)\n",
    "    #alphabet set == string set input\n",
    "    return str1 == alphaset"
   ]
  },
  {
   "cell_type": "code",
   "execution_count": 44,
   "id": "3738f0f4",
   "metadata": {},
   "outputs": [
    {
     "name": "stdout",
     "output_type": "stream",
     "text": [
      "{'q', 'b', 'f', 'a', 'i', 'r', 'n', 'p', 'h', 'w', 'c', 'j', 'x', 'k', 't', 'v', 'm', 'l', 'e', 'u', 'y', 'd', 'z', 's', 'o', 'g'}\n"
     ]
    },
    {
     "data": {
      "text/plain": [
       "True"
      ]
     },
     "execution_count": 44,
     "metadata": {},
     "output_type": "execute_result"
    }
   ],
   "source": [
    "ispangram(\"The quick brown fox jumps over the lazy dog\")"
   ]
  }
 ],
 "metadata": {
  "kernelspec": {
   "display_name": "Python 3 (ipykernel)",
   "language": "python",
   "name": "python3"
  },
  "language_info": {
   "codemirror_mode": {
    "name": "ipython",
    "version": 3
   },
   "file_extension": ".py",
   "mimetype": "text/x-python",
   "name": "python",
   "nbconvert_exporter": "python",
   "pygments_lexer": "ipython3",
   "version": "3.11.5"
  }
 },
 "nbformat": 4,
 "nbformat_minor": 5
}
