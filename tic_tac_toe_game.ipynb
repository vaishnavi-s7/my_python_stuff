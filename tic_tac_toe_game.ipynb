{
 "cells": [
  {
   "cell_type": "code",
   "execution_count": 42,
   "id": "4aac0bdb",
   "metadata": {},
   "outputs": [],
   "source": [
    "from IPython.display import clear_output\n",
    "\n",
    "def display_board(board):\n",
    "    clear_output()\n",
    "    print('   |   |')\n",
    "    print(' ' +  board[7] + ' | ' +  board[8]  + ' | ' + board[9])\n",
    "    print('   |   |')\n",
    "    print('-----------')\n",
    "    print('   |   |')\n",
    "    print(' ' +  board[4] + ' | ' +  board[5]  + ' | ' + board[6])\n",
    "    print('   |   |')\n",
    "    print('-----------')\n",
    "    print('   |   |')\n",
    "    print(' ' +  board[1] + ' | ' +  board[2]  + ' | ' + board[3])\n",
    "    print('   |   |')\n"
   ]
  },
  {
   "cell_type": "code",
   "execution_count": 56,
   "id": "13f26700",
   "metadata": {},
   "outputs": [
    {
     "name": "stdout",
     "output_type": "stream",
     "text": [
      "   |   |\n",
      " X | O | X\n",
      "   |   |\n",
      "-----------\n",
      "   |   |\n",
      " O | X | O\n",
      "   |   |\n",
      "-----------\n",
      "   |   |\n",
      " X | O | X\n",
      "   |   |\n"
     ]
    }
   ],
   "source": [
    "test_board = ['#','X','O','X','O','X','O','X','O','X']\n",
    "display_board(test_board)\n",
    "display_board(test_board)"
   ]
  },
  {
   "cell_type": "markdown",
   "id": "87e7afce",
   "metadata": {},
   "source": [
    "Write a function to take in the user input and assign their markker as 'X' or 'O' think about using while loops to continuously ask until you get a correct answer"
   ]
  },
  {
   "cell_type": "code",
   "execution_count": 57,
   "id": "40c25ae4",
   "metadata": {},
   "outputs": [],
   "source": [
    "def player_input():\n",
    "    \n",
    "    '''OUTPUT = (Player 1 marker , Player 2 marker)'''\n",
    "    marker = ''\n",
    "    while marker != 'X' and marker != 'O':  #while not in (marker == 'X' and marker == 'O'):\n",
    "        marker = input('Palyer 1 : Choose X or O: ').upper()\n",
    "        \n",
    "    if marker == 'X':\n",
    "        \n",
    "        return ('X','O')\n",
    "    else:\n",
    "        return ('O','X')\n",
    "        "
   ]
  },
  {
   "cell_type": "code",
   "execution_count": 58,
   "id": "c2f001a7",
   "metadata": {},
   "outputs": [
    {
     "name": "stdout",
     "output_type": "stream",
     "text": [
      "Palyer 1 : Choose X or O: x\n"
     ]
    }
   ],
   "source": [
    "player1_marker , player2_marker = player_input()"
   ]
  },
  {
   "cell_type": "code",
   "execution_count": 59,
   "id": "8ddfeb25",
   "metadata": {},
   "outputs": [
    {
     "data": {
      "text/plain": [
       "'X'"
      ]
     },
     "execution_count": 59,
     "metadata": {},
     "output_type": "execute_result"
    }
   ],
   "source": [
    "player1_marker"
   ]
  },
  {
   "cell_type": "code",
   "execution_count": 60,
   "id": "8bee707d",
   "metadata": {},
   "outputs": [
    {
     "data": {
      "text/plain": [
       "'O'"
      ]
     },
     "execution_count": 60,
     "metadata": {},
     "output_type": "execute_result"
    }
   ],
   "source": [
    "player2_marker"
   ]
  },
  {
   "cell_type": "code",
   "execution_count": 66,
   "id": "2b5b1d5a",
   "metadata": {},
   "outputs": [],
   "source": [
    "def place_marker(board,marker,position):\n",
    "    board[position] = marker"
   ]
  },
  {
   "cell_type": "markdown",
   "id": "63d1dcf0",
   "metadata": {},
   "source": [
    "run the place marker function using test parameters and display the modified board"
   ]
  },
  {
   "cell_type": "code",
   "execution_count": 67,
   "id": "a4e32d30",
   "metadata": {},
   "outputs": [
    {
     "data": {
      "text/plain": [
       "['#', 'X', 'O', 'X', 'O', 'X', 'O', 'X', 'O', 'X']"
      ]
     },
     "execution_count": 67,
     "metadata": {},
     "output_type": "execute_result"
    }
   ],
   "source": [
    "test_board"
   ]
  },
  {
   "cell_type": "code",
   "execution_count": 68,
   "id": "f0777fa5",
   "metadata": {},
   "outputs": [
    {
     "name": "stdout",
     "output_type": "stream",
     "text": [
      "   |   |\n",
      " X | $ | X\n",
      "   |   |\n",
      "-----------\n",
      "   |   |\n",
      " O | X | O\n",
      "   |   |\n",
      "-----------\n",
      "   |   |\n",
      " X | O | X\n",
      "   |   |\n"
     ]
    }
   ],
   "source": [
    "place_marker(test_board,'$',8)\n",
    "display_board(test_board)"
   ]
  },
  {
   "cell_type": "markdown",
   "id": "be843196",
   "metadata": {},
   "source": [
    "Write a function that takes in a board and a mark (X or O) and then checks to see if that mark has won"
   ]
  },
  {
   "cell_type": "code",
   "execution_count": 73,
   "id": "58490681",
   "metadata": {},
   "outputs": [],
   "source": [
    "def win_check(board, mark):\n",
    "    # WIN TIC TAC TOE?\n",
    "\n",
    "    # Return True if any of the winning conditions are met\n",
    "    return (\n",
    "        # All rows\n",
    "        (board[1] == mark and board[2] == mark and board[3] == mark) or\n",
    "        (board[4] == mark and board[5] == mark and board[6] == mark) or\n",
    "        (board[7] == mark and board[8] == mark and board[9] == mark) or\n",
    "        # All columns\n",
    "        (board[1] == mark and board[4] == mark and board[7] == mark) or\n",
    "        (board[2] == mark and board[5] == mark and board[8] == mark) or\n",
    "        (board[3] == mark and board[6] == mark and board[9] == mark) or\n",
    "        # Two diagonals\n",
    "        (board[1] == mark and board[5] == mark and board[9] == mark) or\n",
    "        (board[3] == mark and board[5] == mark and board[7] == mark)\n",
    "    )\n"
   ]
  },
  {
   "cell_type": "code",
   "execution_count": 74,
   "id": "a88311e3",
   "metadata": {},
   "outputs": [
    {
     "name": "stdout",
     "output_type": "stream",
     "text": [
      "   |   |\n",
      " X | $ | X\n",
      "   |   |\n",
      "-----------\n",
      "   |   |\n",
      " O | X | O\n",
      "   |   |\n",
      "-----------\n",
      "   |   |\n",
      " X | O | X\n",
      "   |   |\n"
     ]
    },
    {
     "data": {
      "text/plain": [
       "True"
      ]
     },
     "execution_count": 74,
     "metadata": {},
     "output_type": "execute_result"
    }
   ],
   "source": [
    "display_board(test_board)\n",
    "win_check(test_board,'X')"
   ]
  },
  {
   "cell_type": "markdown",
   "id": "b1796906",
   "metadata": {},
   "source": [
    "Write a function that uses the random module to randomly decide which player goes first you may lookup random.ranint() return a string of which player went first"
   ]
  },
  {
   "cell_type": "code",
   "execution_count": 75,
   "id": "733bdc1e",
   "metadata": {},
   "outputs": [],
   "source": [
    "import random\n",
    "\n",
    "def choose_first():\n",
    "    \n",
    "    flip = random.randint(0,1)\n",
    "    \n",
    "    if flip == 0:\n",
    "        return 'Player 1'\n",
    "    else:\n",
    "        return 'Player 2'"
   ]
  },
  {
   "cell_type": "markdown",
   "id": "76bf332b",
   "metadata": {},
   "source": [
    "Write a function that returns a boolean indicating whether a space on the board is freely available."
   ]
  },
  {
   "cell_type": "code",
   "execution_count": null,
   "id": "86cd10a5",
   "metadata": {},
   "outputs": [],
   "source": [
    "def space_check(board,position):\n",
    "    board[position] == ''"
   ]
  }
 ],
 "metadata": {
  "kernelspec": {
   "display_name": "Python 3 (ipykernel)",
   "language": "python",
   "name": "python3"
  },
  "language_info": {
   "codemirror_mode": {
    "name": "ipython",
    "version": 3
   },
   "file_extension": ".py",
   "mimetype": "text/x-python",
   "name": "python",
   "nbconvert_exporter": "python",
   "pygments_lexer": "ipython3",
   "version": "3.11.5"
  }
 },
 "nbformat": 4,
 "nbformat_minor": 5
}
