{
 "cells": [
  {
   "cell_type": "markdown",
   "id": "053e8678",
   "metadata": {},
   "source": [
    "LESSER OF TWO EVENS:write a function that returns the lesser of two given numbers if both the numbers are even,but returns the greate if one or both the numbers are odd\n",
    "\n",
    "lesser_of_two_evens(2,4)---->2\n",
    "lesser_of_two_evens(2,5)---->5"
   ]
  },
  {
   "cell_type": "markdown",
   "id": "9d29c090",
   "metadata": {},
   "source": [
    "approach 1"
   ]
  },
  {
   "cell_type": "code",
   "execution_count": 41,
   "id": "1d84be9d",
   "metadata": {},
   "outputs": [],
   "source": [
    "def lesser_of_two_evens(a,b):\n",
    "    if a % 2 == 0 and b % 2 == 0:\n",
    "        #Both the numbers are even\n",
    "        if a <b:\n",
    "            result = a\n",
    "        else:\n",
    "            result = b\n",
    "    else:\n",
    "        #One or both numbers are odd\n",
    "        if a<b:\n",
    "            result = b\n",
    "        else:\n",
    "            result = a\n",
    "    return result"
   ]
  },
  {
   "cell_type": "code",
   "execution_count": 42,
   "id": "1ae71020",
   "metadata": {},
   "outputs": [
    {
     "data": {
      "text/plain": [
       "2"
      ]
     },
     "execution_count": 42,
     "metadata": {},
     "output_type": "execute_result"
    }
   ],
   "source": [
    "lesser_of_two_evens(2,4)"
   ]
  },
  {
   "cell_type": "code",
   "execution_count": 43,
   "id": "dda64b14",
   "metadata": {},
   "outputs": [
    {
     "data": {
      "text/plain": [
       "5"
      ]
     },
     "execution_count": 43,
     "metadata": {},
     "output_type": "execute_result"
    }
   ],
   "source": [
    "lesser_of_two_evens(2,5)"
   ]
  },
  {
   "cell_type": "markdown",
   "id": "cf8c8252",
   "metadata": {},
   "source": [
    "approach 2"
   ]
  },
  {
   "cell_type": "code",
   "execution_count": 44,
   "id": "509ce408",
   "metadata": {},
   "outputs": [],
   "source": [
    "def lesser_of_two_even(a,b):\n",
    "    if a % 2 == 0 and b % 2 == 0:\n",
    "        result = min(a,b)\n",
    "    else:\n",
    "        result = max(a,b)\n",
    "    return result"
   ]
  },
  {
   "cell_type": "code",
   "execution_count": 45,
   "id": "5019538b",
   "metadata": {},
   "outputs": [
    {
     "data": {
      "text/plain": [
       "2"
      ]
     },
     "execution_count": 45,
     "metadata": {},
     "output_type": "execute_result"
    }
   ],
   "source": [
    "lesser_of_two_evens(2,4)"
   ]
  },
  {
   "cell_type": "code",
   "execution_count": 46,
   "id": "9f45508d",
   "metadata": {},
   "outputs": [
    {
     "data": {
      "text/plain": [
       "5"
      ]
     },
     "execution_count": 46,
     "metadata": {},
     "output_type": "execute_result"
    }
   ],
   "source": [
    "lesser_of_two_evens(2,5)\n"
   ]
  },
  {
   "cell_type": "code",
   "execution_count": 47,
   "id": "d7c3b165",
   "metadata": {},
   "outputs": [],
   "source": [
    "def lesser_of_two_even(a,b):\n",
    "    if a % 2 == 0 and b % 2 == 0:\n",
    "        return min(a,b)\n",
    "    else:\n",
    "        return max(a,b)\n",
    "    "
   ]
  },
  {
   "cell_type": "code",
   "execution_count": 48,
   "id": "f6831ca6",
   "metadata": {},
   "outputs": [
    {
     "data": {
      "text/plain": [
       "2"
      ]
     },
     "execution_count": 48,
     "metadata": {},
     "output_type": "execute_result"
    }
   ],
   "source": [
    "lesser_of_two_evens(2,4)"
   ]
  },
  {
   "cell_type": "code",
   "execution_count": 49,
   "id": "4af2a866",
   "metadata": {},
   "outputs": [
    {
     "data": {
      "text/plain": [
       "5"
      ]
     },
     "execution_count": 49,
     "metadata": {},
     "output_type": "execute_result"
    }
   ],
   "source": [
    "lesser_of_two_evens(2,5)"
   ]
  },
  {
   "cell_type": "markdown",
   "id": "5ac4ffde",
   "metadata": {},
   "source": [
    "ANIMAL CRACKERS:Write a functon that takes a two word string and returns True if both words begin with the same letter \n",
    "\n",
    "animal_cracker('Levelheaded Lama')--->True\n",
    "animal_cracker('Crazy Kangaroo')--->False"
   ]
  },
  {
   "cell_type": "code",
   "execution_count": 61,
   "id": "9d7bcb97",
   "metadata": {},
   "outputs": [],
   "source": [
    "def animal_cracker(text):\n",
    "    wordlist = text.lower().split()\n",
    "    \n",
    "#     print(wordlist)\n",
    "    \n",
    "    first = wordlist[0]\n",
    "    second = wordlist[1]\n",
    "    \n",
    "    return first[0]==second[0]"
   ]
  },
  {
   "cell_type": "code",
   "execution_count": 62,
   "id": "a8031a46",
   "metadata": {},
   "outputs": [
    {
     "data": {
      "text/plain": [
       "True"
      ]
     },
     "execution_count": 62,
     "metadata": {},
     "output_type": "execute_result"
    }
   ],
   "source": [
    "animal_cracker('Levelheaded Lama')"
   ]
  },
  {
   "cell_type": "code",
   "execution_count": 63,
   "id": "82e87bfb",
   "metadata": {},
   "outputs": [
    {
     "data": {
      "text/plain": [
       "False"
      ]
     },
     "execution_count": 63,
     "metadata": {},
     "output_type": "execute_result"
    }
   ],
   "source": [
    "animal_cracker('Crazy Kangaroo')"
   ]
  },
  {
   "cell_type": "markdown",
   "id": "f0c83e73",
   "metadata": {},
   "source": [
    "approach 2"
   ]
  },
  {
   "cell_type": "code",
   "execution_count": 64,
   "id": "5df17e92",
   "metadata": {},
   "outputs": [],
   "source": [
    "def animal_cracker(text):\n",
    "    wordlist = text.lower().split()\n",
    "#     wordlist = text.split()\n",
    "    return wordlist[0][0] == wordlist[1][0]\n",
    "    "
   ]
  },
  {
   "cell_type": "code",
   "execution_count": 65,
   "id": "ad44afed",
   "metadata": {},
   "outputs": [
    {
     "data": {
      "text/plain": [
       "True"
      ]
     },
     "execution_count": 65,
     "metadata": {},
     "output_type": "execute_result"
    }
   ],
   "source": [
    "animal_cracker('Levelheaded Lama')"
   ]
  },
  {
   "cell_type": "code",
   "execution_count": 66,
   "id": "cc59f4f5",
   "metadata": {},
   "outputs": [
    {
     "data": {
      "text/plain": [
       "False"
      ]
     },
     "execution_count": 66,
     "metadata": {},
     "output_type": "execute_result"
    }
   ],
   "source": [
    "animal_cracker('Crazy Kangaroo')"
   ]
  },
  {
   "cell_type": "code",
   "execution_count": 67,
   "id": "c440eee1",
   "metadata": {},
   "outputs": [
    {
     "data": {
      "text/plain": [
       "True"
      ]
     },
     "execution_count": 67,
     "metadata": {},
     "output_type": "execute_result"
    }
   ],
   "source": [
    "animal_cracker('Crazy cat')"
   ]
  },
  {
   "cell_type": "markdown",
   "id": "42de210d",
   "metadata": {},
   "source": [
    "MAKES TWENTY:Given two integers return True if tt6he sum of the intergers is 20 or if one of the integers isi 20.If not,return False\n",
    "\n",
    "makes_twenty(20,10)--->True\n",
    "makes_twenty(12,8)--->True\n",
    "makes_twenty(2,3)--->False"
   ]
  },
  {
   "cell_type": "code",
   "execution_count": 68,
   "id": "6251616e",
   "metadata": {},
   "outputs": [],
   "source": [
    "def makes_twenty(n1,n2):\n",
    "    if n1+n2 == 20:\n",
    "        return True\n",
    "    elif n1 == 20 or n2 == 20:\n",
    "        return True\n",
    "    else:\n",
    "        return False"
   ]
  },
  {
   "cell_type": "code",
   "execution_count": 69,
   "id": "1163a43d",
   "metadata": {},
   "outputs": [
    {
     "data": {
      "text/plain": [
       "True"
      ]
     },
     "execution_count": 69,
     "metadata": {},
     "output_type": "execute_result"
    }
   ],
   "source": [
    "makes_twenty(20,10)"
   ]
  },
  {
   "cell_type": "code",
   "execution_count": 70,
   "id": "bd894772",
   "metadata": {},
   "outputs": [
    {
     "data": {
      "text/plain": [
       "True"
      ]
     },
     "execution_count": 70,
     "metadata": {},
     "output_type": "execute_result"
    }
   ],
   "source": [
    "makes_twenty(12,8)"
   ]
  },
  {
   "cell_type": "code",
   "execution_count": 71,
   "id": "b0f3118c",
   "metadata": {},
   "outputs": [
    {
     "data": {
      "text/plain": [
       "False"
      ]
     },
     "execution_count": 71,
     "metadata": {},
     "output_type": "execute_result"
    }
   ],
   "source": [
    "makes_twenty(2,3)"
   ]
  },
  {
   "cell_type": "markdown",
   "id": "aefd1d1b",
   "metadata": {},
   "source": [
    "approach 2"
   ]
  },
  {
   "cell_type": "code",
   "execution_count": 74,
   "id": "662ad008",
   "metadata": {},
   "outputs": [],
   "source": [
    "def makes_twenty(n1,n2):\n",
    "    if (n1+n2) == 20 or n1 == 20 or n2 == 20:\n",
    "        return True\n",
    "    else:\n",
    "        return False"
   ]
  },
  {
   "cell_type": "code",
   "execution_count": 75,
   "id": "ef5ce3f1",
   "metadata": {},
   "outputs": [
    {
     "data": {
      "text/plain": [
       "True"
      ]
     },
     "execution_count": 75,
     "metadata": {},
     "output_type": "execute_result"
    }
   ],
   "source": [
    "makes_twenty(20,10)"
   ]
  },
  {
   "cell_type": "code",
   "execution_count": 76,
   "id": "0ee4946d",
   "metadata": {},
   "outputs": [
    {
     "data": {
      "text/plain": [
       "True"
      ]
     },
     "execution_count": 76,
     "metadata": {},
     "output_type": "execute_result"
    }
   ],
   "source": [
    "makes_twenty(12,8)"
   ]
  },
  {
   "cell_type": "code",
   "execution_count": 77,
   "id": "d6b54302",
   "metadata": {},
   "outputs": [
    {
     "data": {
      "text/plain": [
       "False"
      ]
     },
     "execution_count": 77,
     "metadata": {},
     "output_type": "execute_result"
    }
   ],
   "source": [
    "makes_twenty(2,1)"
   ]
  },
  {
   "cell_type": "markdown",
   "id": "42b7b134",
   "metadata": {},
   "source": [
    "approach 3"
   ]
  },
  {
   "cell_type": "code",
   "execution_count": 79,
   "id": "3610ebed",
   "metadata": {},
   "outputs": [],
   "source": [
    "def makes_twenty(n1,n2):\n",
    "    return (n1+n2) == 20 or n1 == 20 or n2 == 20"
   ]
  },
  {
   "cell_type": "code",
   "execution_count": 80,
   "id": "ea0f3b14",
   "metadata": {},
   "outputs": [
    {
     "data": {
      "text/plain": [
       "True"
      ]
     },
     "execution_count": 80,
     "metadata": {},
     "output_type": "execute_result"
    }
   ],
   "source": [
    "makes_twenty(20,10)"
   ]
  },
  {
   "cell_type": "code",
   "execution_count": 81,
   "id": "0544c094",
   "metadata": {},
   "outputs": [
    {
     "data": {
      "text/plain": [
       "True"
      ]
     },
     "execution_count": 81,
     "metadata": {},
     "output_type": "execute_result"
    }
   ],
   "source": [
    "makes_twenty(12,8)"
   ]
  },
  {
   "cell_type": "code",
   "execution_count": 82,
   "id": "83bbca3b",
   "metadata": {},
   "outputs": [
    {
     "data": {
      "text/plain": [
       "False"
      ]
     },
     "execution_count": 82,
     "metadata": {},
     "output_type": "execute_result"
    }
   ],
   "source": [
    "makes_twenty(2,1)"
   ]
  },
  {
   "cell_type": "code",
   "execution_count": null,
   "id": "8e8e9704",
   "metadata": {},
   "outputs": [],
   "source": []
  }
 ],
 "metadata": {
  "kernelspec": {
   "display_name": "Python 3 (ipykernel)",
   "language": "python",
   "name": "python3"
  },
  "language_info": {
   "codemirror_mode": {
    "name": "ipython",
    "version": 3
   },
   "file_extension": ".py",
   "mimetype": "text/x-python",
   "name": "python",
   "nbconvert_exporter": "python",
   "pygments_lexer": "ipython3",
   "version": "3.11.5"
  }
 },
 "nbformat": 4,
 "nbformat_minor": 5
}
